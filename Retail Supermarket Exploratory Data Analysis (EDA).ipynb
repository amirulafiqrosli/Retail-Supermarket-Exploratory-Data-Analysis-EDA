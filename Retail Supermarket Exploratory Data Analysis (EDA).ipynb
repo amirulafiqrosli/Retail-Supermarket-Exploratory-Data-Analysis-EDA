{
 "cells": [
  {
   "cell_type": "markdown",
   "id": "fdb20f66",
   "metadata": {},
   "source": [
    "# Retail Supermarket Exploratory Data Analysis (EDA)"
   ]
  },
  {
   "cell_type": "markdown",
   "id": "67f78464",
   "metadata": {},
   "source": [
    "## About Dataset\n",
    "\n",
    "The dataset contains sales details of different stores of a supermarket chain that has multiple stores in different parts of the US.\n",
    "With columns such as:\n",
    "- Ship Mode\n",
    "- Segment\n",
    "- Country\n",
    "- City\n",
    "- State\n",
    "- Postal code\n",
    "- Region\n",
    "- Category\n",
    "- Sub-category\n",
    "- Sales\n",
    "- Quantity\n",
    "- Discount\n",
    "- Profit"
   ]
  },
  {
   "cell_type": "markdown",
   "id": "47e15763",
   "metadata": {},
   "source": [
    "## Objective\n",
    "\n",
    "The primary objective of analyzing the supermarket sales dataset through data visualization are to derive valuable insights for strategic decision-making. This involves understanding the overall sales trend over time, optimizing logistics by identifying commonly used ship modes, and recognizing regional patterns to tailor marketing strategies. The analysis also aims to prioritize product categories based on sales contribution, optimize pricing strategies by studying the correlation between discounts and profits, and identify high and low-performing regions for targeted interventions. Additionally, insights into quantity sold variations across product categories aid in inventory management, while understanding discount distribution among customer segments supports targeted promotions. Evaluating profit across shipping modes helps improve delivery efficiency, and exploring the correlation between quantity sold and profit provides insights into the relationship between sales volume and financial performance. Ultimately, these objectives aim to foster informed decision-making for the supermarket chain."
   ]
  },
  {
   "cell_type": "markdown",
   "id": "916ee367",
   "metadata": {},
   "source": [
    "## Analysis Questions\n",
    "\n",
    "- Which ship mode is most commonly used?\n",
    "- How do sales vary across different regions?\n",
    "- Which product categories contribute the most to sales?\n",
    "- What is the correlation between discount and profit?\n",
    "- Which cities or states have the highest and lowest sales?\n",
    "- How does the quantity sold vary across different product categories?\n",
    "- What is the distribution of discounts across different segments?\n",
    "- How does profit vary with respect to different shipping modes?\n",
    "- Is there a correlation between quantity sold and profit?"
   ]
  },
  {
   "cell_type": "markdown",
   "id": "9b958168",
   "metadata": {},
   "source": [
    "# Environment Preparation"
   ]
  },
  {
   "cell_type": "markdown",
   "id": "d3263ed1",
   "metadata": {},
   "source": [
    "## Import software libraries"
   ]
  },
  {
   "cell_type": "code",
   "execution_count": 1,
   "id": "ac9af931",
   "metadata": {},
   "outputs": [
    {
     "name": "stdout",
     "output_type": "stream",
     "text": [
      "Libraries used in this project:\n",
      "- Python 3.10.9 | packaged by Anaconda, Inc. | (main, Mar  1 2023, 18:18:15) [MSC v.1916 64 bit (AMD64)]\n",
      "- pandas 1.5.3\n",
      "- Matplotlib 3.7.0\n",
      "- Seaborn 0.12.2\n"
     ]
    }
   ],
   "source": [
    "import sys\n",
    "import pandas as pd\n",
    "import matplotlib.pyplot as plt\n",
    "import matplotlib\n",
    "import seaborn as sns\n",
    "import warnings\n",
    "warnings.filterwarnings(\"ignore\")\n",
    "%matplotlib inline\n",
    "\n",
    "# Summarize software libraries used.\n",
    "print('Libraries used in this project:')\n",
    "print('- Python {}'.format(sys.version))\n",
    "print('- pandas {}'.format(pd.__version__))\n",
    "print('- Matplotlib {}'.format(matplotlib.__version__))\n",
    "print('- Seaborn {}'.format(sns.__version__))"
   ]
  },
  {
   "cell_type": "markdown",
   "id": "3323e10e",
   "metadata": {},
   "source": [
    "# Data Preparation"
   ]
  },
  {
   "cell_type": "markdown",
   "id": "bc3fb58c",
   "metadata": {},
   "source": [
    "## Load and preview the data"
   ]
  },
  {
   "cell_type": "code",
   "execution_count": 2,
   "id": "12db975b",
   "metadata": {},
   "outputs": [
    {
     "data": {
      "text/html": [
       "<div>\n",
       "<style scoped>\n",
       "    .dataframe tbody tr th:only-of-type {\n",
       "        vertical-align: middle;\n",
       "    }\n",
       "\n",
       "    .dataframe tbody tr th {\n",
       "        vertical-align: top;\n",
       "    }\n",
       "\n",
       "    .dataframe thead th {\n",
       "        text-align: right;\n",
       "    }\n",
       "</style>\n",
       "<table border=\"1\" class=\"dataframe\">\n",
       "  <thead>\n",
       "    <tr style=\"text-align: right;\">\n",
       "      <th></th>\n",
       "      <th>Ship Mode</th>\n",
       "      <th>Segment</th>\n",
       "      <th>Country</th>\n",
       "      <th>City</th>\n",
       "      <th>State</th>\n",
       "      <th>Postal Code</th>\n",
       "      <th>Region</th>\n",
       "      <th>Category</th>\n",
       "      <th>Sub-Category</th>\n",
       "      <th>Sales</th>\n",
       "      <th>Quantity</th>\n",
       "      <th>Discount</th>\n",
       "      <th>Profit</th>\n",
       "    </tr>\n",
       "  </thead>\n",
       "  <tbody>\n",
       "    <tr>\n",
       "      <th>0</th>\n",
       "      <td>Second Class</td>\n",
       "      <td>Consumer</td>\n",
       "      <td>United States</td>\n",
       "      <td>Henderson</td>\n",
       "      <td>Kentucky</td>\n",
       "      <td>42420</td>\n",
       "      <td>South</td>\n",
       "      <td>Furniture</td>\n",
       "      <td>Bookcases</td>\n",
       "      <td>261.9600</td>\n",
       "      <td>2</td>\n",
       "      <td>0.00</td>\n",
       "      <td>41.9136</td>\n",
       "    </tr>\n",
       "    <tr>\n",
       "      <th>1</th>\n",
       "      <td>Second Class</td>\n",
       "      <td>Consumer</td>\n",
       "      <td>United States</td>\n",
       "      <td>Henderson</td>\n",
       "      <td>Kentucky</td>\n",
       "      <td>42420</td>\n",
       "      <td>South</td>\n",
       "      <td>Furniture</td>\n",
       "      <td>Chairs</td>\n",
       "      <td>731.9400</td>\n",
       "      <td>3</td>\n",
       "      <td>0.00</td>\n",
       "      <td>219.5820</td>\n",
       "    </tr>\n",
       "    <tr>\n",
       "      <th>2</th>\n",
       "      <td>Second Class</td>\n",
       "      <td>Corporate</td>\n",
       "      <td>United States</td>\n",
       "      <td>Los Angeles</td>\n",
       "      <td>California</td>\n",
       "      <td>90036</td>\n",
       "      <td>West</td>\n",
       "      <td>Office Supplies</td>\n",
       "      <td>Labels</td>\n",
       "      <td>14.6200</td>\n",
       "      <td>2</td>\n",
       "      <td>0.00</td>\n",
       "      <td>6.8714</td>\n",
       "    </tr>\n",
       "    <tr>\n",
       "      <th>3</th>\n",
       "      <td>Standard Class</td>\n",
       "      <td>Consumer</td>\n",
       "      <td>United States</td>\n",
       "      <td>Fort Lauderdale</td>\n",
       "      <td>Florida</td>\n",
       "      <td>33311</td>\n",
       "      <td>South</td>\n",
       "      <td>Furniture</td>\n",
       "      <td>Tables</td>\n",
       "      <td>957.5775</td>\n",
       "      <td>5</td>\n",
       "      <td>0.45</td>\n",
       "      <td>-383.0310</td>\n",
       "    </tr>\n",
       "    <tr>\n",
       "      <th>4</th>\n",
       "      <td>Standard Class</td>\n",
       "      <td>Consumer</td>\n",
       "      <td>United States</td>\n",
       "      <td>Fort Lauderdale</td>\n",
       "      <td>Florida</td>\n",
       "      <td>33311</td>\n",
       "      <td>South</td>\n",
       "      <td>Office Supplies</td>\n",
       "      <td>Storage</td>\n",
       "      <td>22.3680</td>\n",
       "      <td>2</td>\n",
       "      <td>0.20</td>\n",
       "      <td>2.5164</td>\n",
       "    </tr>\n",
       "  </tbody>\n",
       "</table>\n",
       "</div>"
      ],
      "text/plain": [
       "        Ship Mode    Segment        Country             City       State  \\\n",
       "0    Second Class   Consumer  United States        Henderson    Kentucky   \n",
       "1    Second Class   Consumer  United States        Henderson    Kentucky   \n",
       "2    Second Class  Corporate  United States      Los Angeles  California   \n",
       "3  Standard Class   Consumer  United States  Fort Lauderdale     Florida   \n",
       "4  Standard Class   Consumer  United States  Fort Lauderdale     Florida   \n",
       "\n",
       "   Postal Code Region         Category Sub-Category     Sales  Quantity  \\\n",
       "0        42420  South        Furniture    Bookcases  261.9600         2   \n",
       "1        42420  South        Furniture       Chairs  731.9400         3   \n",
       "2        90036   West  Office Supplies       Labels   14.6200         2   \n",
       "3        33311  South        Furniture       Tables  957.5775         5   \n",
       "4        33311  South  Office Supplies      Storage   22.3680         2   \n",
       "\n",
       "   Discount    Profit  \n",
       "0      0.00   41.9136  \n",
       "1      0.00  219.5820  \n",
       "2      0.00    6.8714  \n",
       "3      0.45 -383.0310  \n",
       "4      0.20    2.5164  "
      ]
     },
     "execution_count": 2,
     "metadata": {},
     "output_type": "execute_result"
    }
   ],
   "source": [
    "pd.set_option('display.max_columns', None)\n",
    "data = pd.read_csv(R\"C:\\Users\\Dell\\Downloads\\EDA\\Retail Supermarket\\Superstore.csv\")\n",
    "data.head(5)"
   ]
  },
  {
   "cell_type": "markdown",
   "id": "71774a58",
   "metadata": {},
   "source": [
    "## Check the shape of the data"
   ]
  },
  {
   "cell_type": "code",
   "execution_count": 3,
   "id": "253c7103",
   "metadata": {},
   "outputs": [
    {
     "data": {
      "text/plain": [
       "(9994, 13)"
      ]
     },
     "execution_count": 3,
     "metadata": {},
     "output_type": "execute_result"
    }
   ],
   "source": [
    "data.shape"
   ]
  },
  {
   "cell_type": "markdown",
   "id": "ec1a3d25",
   "metadata": {},
   "source": [
    "## Check the unique number of columns"
   ]
  },
  {
   "cell_type": "code",
   "execution_count": 4,
   "id": "b24c9ec1",
   "metadata": {},
   "outputs": [
    {
     "data": {
      "text/plain": [
       "Ship Mode          4\n",
       "Segment            3\n",
       "Country            1\n",
       "City             531\n",
       "State             49\n",
       "Postal Code      631\n",
       "Region             4\n",
       "Category           3\n",
       "Sub-Category      17\n",
       "Sales           5825\n",
       "Quantity          14\n",
       "Discount          12\n",
       "Profit          7287\n",
       "dtype: int64"
      ]
     },
     "execution_count": 4,
     "metadata": {},
     "output_type": "execute_result"
    }
   ],
   "source": [
    "data.nunique()"
   ]
  },
  {
   "cell_type": "markdown",
   "id": "35380a39",
   "metadata": {},
   "source": [
    "## Check the data types"
   ]
  },
  {
   "cell_type": "code",
   "execution_count": 5,
   "id": "d803b7a1",
   "metadata": {},
   "outputs": [
    {
     "name": "stdout",
     "output_type": "stream",
     "text": [
      "<class 'pandas.core.frame.DataFrame'>\n",
      "RangeIndex: 9994 entries, 0 to 9993\n",
      "Data columns (total 13 columns):\n",
      " #   Column        Non-Null Count  Dtype  \n",
      "---  ------        --------------  -----  \n",
      " 0   Ship Mode     9994 non-null   object \n",
      " 1   Segment       9994 non-null   object \n",
      " 2   Country       9994 non-null   object \n",
      " 3   City          9994 non-null   object \n",
      " 4   State         9994 non-null   object \n",
      " 5   Postal Code   9994 non-null   int64  \n",
      " 6   Region        9994 non-null   object \n",
      " 7   Category      9994 non-null   object \n",
      " 8   Sub-Category  9994 non-null   object \n",
      " 9   Sales         9994 non-null   float64\n",
      " 10  Quantity      9994 non-null   int64  \n",
      " 11  Discount      9994 non-null   float64\n",
      " 12  Profit        9994 non-null   float64\n",
      "dtypes: float64(3), int64(2), object(8)\n",
      "memory usage: 1015.1+ KB\n"
     ]
    }
   ],
   "source": [
    "data.info()"
   ]
  },
  {
   "cell_type": "markdown",
   "id": "3065c1cf",
   "metadata": {},
   "source": [
    "## Create ID column"
   ]
  },
  {
   "cell_type": "code",
   "execution_count": 6,
   "id": "5d4dd8bc",
   "metadata": {},
   "outputs": [
    {
     "name": "stdout",
     "output_type": "stream",
     "text": [
      "Unique IDs without duplicates:\n",
      "0       ABC49620734\n",
      "1       ABC21865675\n",
      "2       ABC67158236\n",
      "3       ABC54528917\n",
      "4       ABC86819415\n",
      "           ...     \n",
      "9989    ABC70229534\n",
      "9990    ABC94427689\n",
      "9991    ABC98656660\n",
      "9992    ABC28055755\n",
      "9993    ABC36841529\n",
      "Name: ID, Length: 9994, dtype: object\n"
     ]
    }
   ],
   "source": [
    "import random\n",
    "import string\n",
    "\n",
    "# Specify the number of random IDs you want to generate\n",
    "num_ids = len(data)\n",
    "\n",
    "# Fixed alphabet prefix\n",
    "prefix = 'ABC'\n",
    "\n",
    "# Set to store unique IDs\n",
    "unique_ids_set = set()\n",
    "\n",
    "# Generate unique random IDs\n",
    "while len(unique_ids_set) < num_ids:\n",
    "    random_id = prefix + ''.join(random.choices(string.digits, k=8))\n",
    "    unique_ids_set.add(random_id)\n",
    "\n",
    "# Convert the set to a list and create a DataFrame with a column named 'ID'\n",
    "unique_ids_list = list(unique_ids_set)\n",
    "data['ID'] = pd.DataFrame({'ID': unique_ids_list})\n",
    "\n",
    "# Display the unique IDs without duplicates\n",
    "print(\"Unique IDs without duplicates:\")\n",
    "print(data['ID'])"
   ]
  },
  {
   "cell_type": "code",
   "execution_count": 7,
   "id": "ef8a3748",
   "metadata": {},
   "outputs": [
    {
     "data": {
      "text/html": [
       "<div>\n",
       "<style scoped>\n",
       "    .dataframe tbody tr th:only-of-type {\n",
       "        vertical-align: middle;\n",
       "    }\n",
       "\n",
       "    .dataframe tbody tr th {\n",
       "        vertical-align: top;\n",
       "    }\n",
       "\n",
       "    .dataframe thead th {\n",
       "        text-align: right;\n",
       "    }\n",
       "</style>\n",
       "<table border=\"1\" class=\"dataframe\">\n",
       "  <thead>\n",
       "    <tr style=\"text-align: right;\">\n",
       "      <th></th>\n",
       "      <th>ID</th>\n",
       "      <th>Ship Mode</th>\n",
       "      <th>Segment</th>\n",
       "      <th>Country</th>\n",
       "      <th>City</th>\n",
       "      <th>State</th>\n",
       "      <th>Postal Code</th>\n",
       "      <th>Region</th>\n",
       "      <th>Category</th>\n",
       "      <th>Sub-Category</th>\n",
       "      <th>Sales</th>\n",
       "      <th>Quantity</th>\n",
       "      <th>Discount</th>\n",
       "      <th>Profit</th>\n",
       "    </tr>\n",
       "  </thead>\n",
       "  <tbody>\n",
       "    <tr>\n",
       "      <th>0</th>\n",
       "      <td>ABC49620734</td>\n",
       "      <td>Second Class</td>\n",
       "      <td>Consumer</td>\n",
       "      <td>United States</td>\n",
       "      <td>Henderson</td>\n",
       "      <td>Kentucky</td>\n",
       "      <td>42420</td>\n",
       "      <td>South</td>\n",
       "      <td>Furniture</td>\n",
       "      <td>Bookcases</td>\n",
       "      <td>261.9600</td>\n",
       "      <td>2</td>\n",
       "      <td>0.00</td>\n",
       "      <td>41.9136</td>\n",
       "    </tr>\n",
       "    <tr>\n",
       "      <th>1</th>\n",
       "      <td>ABC21865675</td>\n",
       "      <td>Second Class</td>\n",
       "      <td>Consumer</td>\n",
       "      <td>United States</td>\n",
       "      <td>Henderson</td>\n",
       "      <td>Kentucky</td>\n",
       "      <td>42420</td>\n",
       "      <td>South</td>\n",
       "      <td>Furniture</td>\n",
       "      <td>Chairs</td>\n",
       "      <td>731.9400</td>\n",
       "      <td>3</td>\n",
       "      <td>0.00</td>\n",
       "      <td>219.5820</td>\n",
       "    </tr>\n",
       "    <tr>\n",
       "      <th>2</th>\n",
       "      <td>ABC67158236</td>\n",
       "      <td>Second Class</td>\n",
       "      <td>Corporate</td>\n",
       "      <td>United States</td>\n",
       "      <td>Los Angeles</td>\n",
       "      <td>California</td>\n",
       "      <td>90036</td>\n",
       "      <td>West</td>\n",
       "      <td>Office Supplies</td>\n",
       "      <td>Labels</td>\n",
       "      <td>14.6200</td>\n",
       "      <td>2</td>\n",
       "      <td>0.00</td>\n",
       "      <td>6.8714</td>\n",
       "    </tr>\n",
       "    <tr>\n",
       "      <th>3</th>\n",
       "      <td>ABC54528917</td>\n",
       "      <td>Standard Class</td>\n",
       "      <td>Consumer</td>\n",
       "      <td>United States</td>\n",
       "      <td>Fort Lauderdale</td>\n",
       "      <td>Florida</td>\n",
       "      <td>33311</td>\n",
       "      <td>South</td>\n",
       "      <td>Furniture</td>\n",
       "      <td>Tables</td>\n",
       "      <td>957.5775</td>\n",
       "      <td>5</td>\n",
       "      <td>0.45</td>\n",
       "      <td>-383.0310</td>\n",
       "    </tr>\n",
       "    <tr>\n",
       "      <th>4</th>\n",
       "      <td>ABC86819415</td>\n",
       "      <td>Standard Class</td>\n",
       "      <td>Consumer</td>\n",
       "      <td>United States</td>\n",
       "      <td>Fort Lauderdale</td>\n",
       "      <td>Florida</td>\n",
       "      <td>33311</td>\n",
       "      <td>South</td>\n",
       "      <td>Office Supplies</td>\n",
       "      <td>Storage</td>\n",
       "      <td>22.3680</td>\n",
       "      <td>2</td>\n",
       "      <td>0.20</td>\n",
       "      <td>2.5164</td>\n",
       "    </tr>\n",
       "  </tbody>\n",
       "</table>\n",
       "</div>"
      ],
      "text/plain": [
       "            ID       Ship Mode    Segment        Country             City  \\\n",
       "0  ABC49620734    Second Class   Consumer  United States        Henderson   \n",
       "1  ABC21865675    Second Class   Consumer  United States        Henderson   \n",
       "2  ABC67158236    Second Class  Corporate  United States      Los Angeles   \n",
       "3  ABC54528917  Standard Class   Consumer  United States  Fort Lauderdale   \n",
       "4  ABC86819415  Standard Class   Consumer  United States  Fort Lauderdale   \n",
       "\n",
       "        State  Postal Code Region         Category Sub-Category     Sales  \\\n",
       "0    Kentucky        42420  South        Furniture    Bookcases  261.9600   \n",
       "1    Kentucky        42420  South        Furniture       Chairs  731.9400   \n",
       "2  California        90036   West  Office Supplies       Labels   14.6200   \n",
       "3     Florida        33311  South        Furniture       Tables  957.5775   \n",
       "4     Florida        33311  South  Office Supplies      Storage   22.3680   \n",
       "\n",
       "   Quantity  Discount    Profit  \n",
       "0         2      0.00   41.9136  \n",
       "1         3      0.00  219.5820  \n",
       "2         2      0.00    6.8714  \n",
       "3         5      0.45 -383.0310  \n",
       "4         2      0.20    2.5164  "
      ]
     },
     "execution_count": 7,
     "metadata": {},
     "output_type": "execute_result"
    }
   ],
   "source": [
    "column_to_move = 'ID'\n",
    "\n",
    "# Create a list of column names with the desired order\n",
    "new_order = [column_to_move] + [col for col in data.columns if col != column_to_move]\n",
    "\n",
    "# Reorder the DataFrame columns\n",
    "data = data[new_order]\n",
    "data.head()"
   ]
  },
  {
   "cell_type": "markdown",
   "id": "ac4f31be",
   "metadata": {},
   "source": [
    "## Count column values"
   ]
  },
  {
   "cell_type": "code",
   "execution_count": 8,
   "id": "868d1734",
   "metadata": {},
   "outputs": [
    {
     "name": "stdout",
     "output_type": "stream",
     "text": [
      "Value counts for ID:\n",
      "ABC49620734    1\n",
      "ABC38821942    1\n",
      "ABC35797782    1\n",
      "ABC51958332    1\n",
      "ABC99982942    1\n",
      "              ..\n",
      "ABC07735802    1\n",
      "ABC86891341    1\n",
      "ABC00828651    1\n",
      "ABC82493968    1\n",
      "ABC36841529    1\n",
      "Name: ID, Length: 9994, dtype: int64\n",
      "\n",
      "Value counts for Ship Mode:\n",
      "Standard Class    5968\n",
      "Second Class      1945\n",
      "First Class       1538\n",
      "Same Day           543\n",
      "Name: Ship Mode, dtype: int64\n",
      "\n",
      "Value counts for Segment:\n",
      "Consumer       5191\n",
      "Corporate      3020\n",
      "Home Office    1783\n",
      "Name: Segment, dtype: int64\n",
      "\n",
      "Value counts for Country:\n",
      "United States    9994\n",
      "Name: Country, dtype: int64\n",
      "\n",
      "Value counts for City:\n",
      "New York City      915\n",
      "Los Angeles        747\n",
      "Philadelphia       537\n",
      "San Francisco      510\n",
      "Seattle            428\n",
      "                  ... \n",
      "Glenview             1\n",
      "Missouri City        1\n",
      "Rochester Hills      1\n",
      "Palatine             1\n",
      "Manhattan            1\n",
      "Name: City, Length: 531, dtype: int64\n",
      "\n",
      "Value counts for State:\n",
      "California              2001\n",
      "New York                1128\n",
      "Texas                    985\n",
      "Pennsylvania             587\n",
      "Washington               506\n",
      "Illinois                 492\n",
      "Ohio                     469\n",
      "Florida                  383\n",
      "Michigan                 255\n",
      "North Carolina           249\n",
      "Arizona                  224\n",
      "Virginia                 224\n",
      "Georgia                  184\n",
      "Tennessee                183\n",
      "Colorado                 182\n",
      "Indiana                  149\n",
      "Kentucky                 139\n",
      "Massachusetts            135\n",
      "New Jersey               130\n",
      "Oregon                   124\n",
      "Wisconsin                110\n",
      "Maryland                 105\n",
      "Delaware                  96\n",
      "Minnesota                 89\n",
      "Connecticut               82\n",
      "Oklahoma                  66\n",
      "Missouri                  66\n",
      "Alabama                   61\n",
      "Arkansas                  60\n",
      "Rhode Island              56\n",
      "Utah                      53\n",
      "Mississippi               53\n",
      "Louisiana                 42\n",
      "South Carolina            42\n",
      "Nevada                    39\n",
      "Nebraska                  38\n",
      "New Mexico                37\n",
      "Iowa                      30\n",
      "New Hampshire             27\n",
      "Kansas                    24\n",
      "Idaho                     21\n",
      "Montana                   15\n",
      "South Dakota              12\n",
      "Vermont                   11\n",
      "District of Columbia      10\n",
      "Maine                      8\n",
      "North Dakota               7\n",
      "West Virginia              4\n",
      "Wyoming                    1\n",
      "Name: State, dtype: int64\n",
      "\n",
      "Value counts for Postal Code:\n",
      "10035    263\n",
      "10024    230\n",
      "10009    229\n",
      "94122    203\n",
      "10011    193\n",
      "        ... \n",
      "27534      1\n",
      "53186      1\n",
      "32503      1\n",
      "94509      1\n",
      "63376      1\n",
      "Name: Postal Code, Length: 631, dtype: int64\n",
      "\n",
      "Value counts for Region:\n",
      "West       3203\n",
      "East       2848\n",
      "Central    2323\n",
      "South      1620\n",
      "Name: Region, dtype: int64\n",
      "\n",
      "Value counts for Category:\n",
      "Office Supplies    6026\n",
      "Furniture          2121\n",
      "Technology         1847\n",
      "Name: Category, dtype: int64\n",
      "\n",
      "Value counts for Sub-Category:\n",
      "Binders        1523\n",
      "Paper          1370\n",
      "Furnishings     957\n",
      "Phones          889\n",
      "Storage         846\n",
      "Art             796\n",
      "Accessories     775\n",
      "Chairs          617\n",
      "Appliances      466\n",
      "Labels          364\n",
      "Tables          319\n",
      "Envelopes       254\n",
      "Bookcases       228\n",
      "Fasteners       217\n",
      "Supplies        190\n",
      "Machines        115\n",
      "Copiers          68\n",
      "Name: Sub-Category, dtype: int64\n",
      "\n",
      "Value counts for Sales:\n",
      "12.960     56\n",
      "19.440     39\n",
      "15.552     39\n",
      "25.920     36\n",
      "10.368     36\n",
      "           ..\n",
      "4.240       1\n",
      "319.960     1\n",
      "646.740     1\n",
      "81.940      1\n",
      "243.160     1\n",
      "Name: Sales, Length: 5825, dtype: int64\n",
      "\n",
      "Value counts for Quantity:\n",
      "3     2409\n",
      "2     2402\n",
      "5     1230\n",
      "4     1191\n",
      "1      899\n",
      "7      606\n",
      "6      572\n",
      "9      258\n",
      "8      257\n",
      "10      57\n",
      "11      34\n",
      "14      29\n",
      "13      27\n",
      "12      23\n",
      "Name: Quantity, dtype: int64\n",
      "\n",
      "Value counts for Discount:\n",
      "0.00    4798\n",
      "0.20    3657\n",
      "0.70     418\n",
      "0.80     300\n",
      "0.30     227\n",
      "0.40     206\n",
      "0.60     138\n",
      "0.10      94\n",
      "0.50      66\n",
      "0.15      52\n",
      "0.32      27\n",
      "0.45      11\n",
      "Name: Discount, dtype: int64\n",
      "\n",
      "Value counts for Profit:\n",
      "0.0000     65\n",
      "6.2208     43\n",
      "9.3312     38\n",
      "5.4432     32\n",
      "3.6288     32\n",
      "           ..\n",
      "83.2508     1\n",
      "16.1096     1\n",
      "7.1988      1\n",
      "1.6510      1\n",
      "72.9480     1\n",
      "Name: Profit, Length: 7287, dtype: int64\n",
      "\n"
     ]
    }
   ],
   "source": [
    "for column in data.columns:\n",
    "    value_counts = data[column].value_counts()\n",
    "    print(f\"Value counts for {column}:\\n{value_counts}\\n\")"
   ]
  },
  {
   "cell_type": "markdown",
   "id": "440eea79",
   "metadata": {},
   "source": [
    "## Check Null Values"
   ]
  },
  {
   "cell_type": "code",
   "execution_count": 9,
   "id": "b6aaa676",
   "metadata": {},
   "outputs": [
    {
     "data": {
      "text/plain": [
       "ID              0\n",
       "Ship Mode       0\n",
       "Segment         0\n",
       "Country         0\n",
       "City            0\n",
       "State           0\n",
       "Postal Code     0\n",
       "Region          0\n",
       "Category        0\n",
       "Sub-Category    0\n",
       "Sales           0\n",
       "Quantity        0\n",
       "Discount        0\n",
       "Profit          0\n",
       "dtype: int64"
      ]
     },
     "execution_count": 9,
     "metadata": {},
     "output_type": "execute_result"
    }
   ],
   "source": [
    "data.isnull().sum()"
   ]
  },
  {
   "cell_type": "markdown",
   "id": "72294b14",
   "metadata": {},
   "source": [
    "# Descriptive Statistics"
   ]
  },
  {
   "cell_type": "code",
   "execution_count": 10,
   "id": "8097a491",
   "metadata": {},
   "outputs": [
    {
     "data": {
      "text/html": [
       "<div>\n",
       "<style scoped>\n",
       "    .dataframe tbody tr th:only-of-type {\n",
       "        vertical-align: middle;\n",
       "    }\n",
       "\n",
       "    .dataframe tbody tr th {\n",
       "        vertical-align: top;\n",
       "    }\n",
       "\n",
       "    .dataframe thead th {\n",
       "        text-align: right;\n",
       "    }\n",
       "</style>\n",
       "<table border=\"1\" class=\"dataframe\">\n",
       "  <thead>\n",
       "    <tr style=\"text-align: right;\">\n",
       "      <th></th>\n",
       "      <th>ID</th>\n",
       "      <th>Ship Mode</th>\n",
       "      <th>Segment</th>\n",
       "      <th>Country</th>\n",
       "      <th>City</th>\n",
       "      <th>State</th>\n",
       "      <th>Postal Code</th>\n",
       "      <th>Region</th>\n",
       "      <th>Category</th>\n",
       "      <th>Sub-Category</th>\n",
       "      <th>Sales</th>\n",
       "      <th>Quantity</th>\n",
       "      <th>Discount</th>\n",
       "      <th>Profit</th>\n",
       "    </tr>\n",
       "  </thead>\n",
       "  <tbody>\n",
       "    <tr>\n",
       "      <th>count</th>\n",
       "      <td>9994</td>\n",
       "      <td>9994</td>\n",
       "      <td>9994</td>\n",
       "      <td>9994</td>\n",
       "      <td>9994</td>\n",
       "      <td>9994</td>\n",
       "      <td>9994.000000</td>\n",
       "      <td>9994</td>\n",
       "      <td>9994</td>\n",
       "      <td>9994</td>\n",
       "      <td>9994.000000</td>\n",
       "      <td>9994.000000</td>\n",
       "      <td>9994.000000</td>\n",
       "      <td>9994.000000</td>\n",
       "    </tr>\n",
       "    <tr>\n",
       "      <th>unique</th>\n",
       "      <td>9994</td>\n",
       "      <td>4</td>\n",
       "      <td>3</td>\n",
       "      <td>1</td>\n",
       "      <td>531</td>\n",
       "      <td>49</td>\n",
       "      <td>NaN</td>\n",
       "      <td>4</td>\n",
       "      <td>3</td>\n",
       "      <td>17</td>\n",
       "      <td>NaN</td>\n",
       "      <td>NaN</td>\n",
       "      <td>NaN</td>\n",
       "      <td>NaN</td>\n",
       "    </tr>\n",
       "    <tr>\n",
       "      <th>top</th>\n",
       "      <td>ABC49620734</td>\n",
       "      <td>Standard Class</td>\n",
       "      <td>Consumer</td>\n",
       "      <td>United States</td>\n",
       "      <td>New York City</td>\n",
       "      <td>California</td>\n",
       "      <td>NaN</td>\n",
       "      <td>West</td>\n",
       "      <td>Office Supplies</td>\n",
       "      <td>Binders</td>\n",
       "      <td>NaN</td>\n",
       "      <td>NaN</td>\n",
       "      <td>NaN</td>\n",
       "      <td>NaN</td>\n",
       "    </tr>\n",
       "    <tr>\n",
       "      <th>freq</th>\n",
       "      <td>1</td>\n",
       "      <td>5968</td>\n",
       "      <td>5191</td>\n",
       "      <td>9994</td>\n",
       "      <td>915</td>\n",
       "      <td>2001</td>\n",
       "      <td>NaN</td>\n",
       "      <td>3203</td>\n",
       "      <td>6026</td>\n",
       "      <td>1523</td>\n",
       "      <td>NaN</td>\n",
       "      <td>NaN</td>\n",
       "      <td>NaN</td>\n",
       "      <td>NaN</td>\n",
       "    </tr>\n",
       "    <tr>\n",
       "      <th>mean</th>\n",
       "      <td>NaN</td>\n",
       "      <td>NaN</td>\n",
       "      <td>NaN</td>\n",
       "      <td>NaN</td>\n",
       "      <td>NaN</td>\n",
       "      <td>NaN</td>\n",
       "      <td>55190.379428</td>\n",
       "      <td>NaN</td>\n",
       "      <td>NaN</td>\n",
       "      <td>NaN</td>\n",
       "      <td>229.858001</td>\n",
       "      <td>3.789574</td>\n",
       "      <td>0.156203</td>\n",
       "      <td>28.656896</td>\n",
       "    </tr>\n",
       "    <tr>\n",
       "      <th>std</th>\n",
       "      <td>NaN</td>\n",
       "      <td>NaN</td>\n",
       "      <td>NaN</td>\n",
       "      <td>NaN</td>\n",
       "      <td>NaN</td>\n",
       "      <td>NaN</td>\n",
       "      <td>32063.693350</td>\n",
       "      <td>NaN</td>\n",
       "      <td>NaN</td>\n",
       "      <td>NaN</td>\n",
       "      <td>623.245101</td>\n",
       "      <td>2.225110</td>\n",
       "      <td>0.206452</td>\n",
       "      <td>234.260108</td>\n",
       "    </tr>\n",
       "    <tr>\n",
       "      <th>min</th>\n",
       "      <td>NaN</td>\n",
       "      <td>NaN</td>\n",
       "      <td>NaN</td>\n",
       "      <td>NaN</td>\n",
       "      <td>NaN</td>\n",
       "      <td>NaN</td>\n",
       "      <td>1040.000000</td>\n",
       "      <td>NaN</td>\n",
       "      <td>NaN</td>\n",
       "      <td>NaN</td>\n",
       "      <td>0.444000</td>\n",
       "      <td>1.000000</td>\n",
       "      <td>0.000000</td>\n",
       "      <td>-6599.978000</td>\n",
       "    </tr>\n",
       "    <tr>\n",
       "      <th>25%</th>\n",
       "      <td>NaN</td>\n",
       "      <td>NaN</td>\n",
       "      <td>NaN</td>\n",
       "      <td>NaN</td>\n",
       "      <td>NaN</td>\n",
       "      <td>NaN</td>\n",
       "      <td>23223.000000</td>\n",
       "      <td>NaN</td>\n",
       "      <td>NaN</td>\n",
       "      <td>NaN</td>\n",
       "      <td>17.280000</td>\n",
       "      <td>2.000000</td>\n",
       "      <td>0.000000</td>\n",
       "      <td>1.728750</td>\n",
       "    </tr>\n",
       "    <tr>\n",
       "      <th>50%</th>\n",
       "      <td>NaN</td>\n",
       "      <td>NaN</td>\n",
       "      <td>NaN</td>\n",
       "      <td>NaN</td>\n",
       "      <td>NaN</td>\n",
       "      <td>NaN</td>\n",
       "      <td>56430.500000</td>\n",
       "      <td>NaN</td>\n",
       "      <td>NaN</td>\n",
       "      <td>NaN</td>\n",
       "      <td>54.490000</td>\n",
       "      <td>3.000000</td>\n",
       "      <td>0.200000</td>\n",
       "      <td>8.666500</td>\n",
       "    </tr>\n",
       "    <tr>\n",
       "      <th>75%</th>\n",
       "      <td>NaN</td>\n",
       "      <td>NaN</td>\n",
       "      <td>NaN</td>\n",
       "      <td>NaN</td>\n",
       "      <td>NaN</td>\n",
       "      <td>NaN</td>\n",
       "      <td>90008.000000</td>\n",
       "      <td>NaN</td>\n",
       "      <td>NaN</td>\n",
       "      <td>NaN</td>\n",
       "      <td>209.940000</td>\n",
       "      <td>5.000000</td>\n",
       "      <td>0.200000</td>\n",
       "      <td>29.364000</td>\n",
       "    </tr>\n",
       "    <tr>\n",
       "      <th>max</th>\n",
       "      <td>NaN</td>\n",
       "      <td>NaN</td>\n",
       "      <td>NaN</td>\n",
       "      <td>NaN</td>\n",
       "      <td>NaN</td>\n",
       "      <td>NaN</td>\n",
       "      <td>99301.000000</td>\n",
       "      <td>NaN</td>\n",
       "      <td>NaN</td>\n",
       "      <td>NaN</td>\n",
       "      <td>22638.480000</td>\n",
       "      <td>14.000000</td>\n",
       "      <td>0.800000</td>\n",
       "      <td>8399.976000</td>\n",
       "    </tr>\n",
       "  </tbody>\n",
       "</table>\n",
       "</div>"
      ],
      "text/plain": [
       "                 ID       Ship Mode   Segment        Country           City  \\\n",
       "count          9994            9994      9994           9994           9994   \n",
       "unique         9994               4         3              1            531   \n",
       "top     ABC49620734  Standard Class  Consumer  United States  New York City   \n",
       "freq              1            5968      5191           9994            915   \n",
       "mean            NaN             NaN       NaN            NaN            NaN   \n",
       "std             NaN             NaN       NaN            NaN            NaN   \n",
       "min             NaN             NaN       NaN            NaN            NaN   \n",
       "25%             NaN             NaN       NaN            NaN            NaN   \n",
       "50%             NaN             NaN       NaN            NaN            NaN   \n",
       "75%             NaN             NaN       NaN            NaN            NaN   \n",
       "max             NaN             NaN       NaN            NaN            NaN   \n",
       "\n",
       "             State   Postal Code Region         Category Sub-Category  \\\n",
       "count         9994   9994.000000   9994             9994         9994   \n",
       "unique          49           NaN      4                3           17   \n",
       "top     California           NaN   West  Office Supplies      Binders   \n",
       "freq          2001           NaN   3203             6026         1523   \n",
       "mean           NaN  55190.379428    NaN              NaN          NaN   \n",
       "std            NaN  32063.693350    NaN              NaN          NaN   \n",
       "min            NaN   1040.000000    NaN              NaN          NaN   \n",
       "25%            NaN  23223.000000    NaN              NaN          NaN   \n",
       "50%            NaN  56430.500000    NaN              NaN          NaN   \n",
       "75%            NaN  90008.000000    NaN              NaN          NaN   \n",
       "max            NaN  99301.000000    NaN              NaN          NaN   \n",
       "\n",
       "               Sales     Quantity     Discount       Profit  \n",
       "count    9994.000000  9994.000000  9994.000000  9994.000000  \n",
       "unique           NaN          NaN          NaN          NaN  \n",
       "top              NaN          NaN          NaN          NaN  \n",
       "freq             NaN          NaN          NaN          NaN  \n",
       "mean      229.858001     3.789574     0.156203    28.656896  \n",
       "std       623.245101     2.225110     0.206452   234.260108  \n",
       "min         0.444000     1.000000     0.000000 -6599.978000  \n",
       "25%        17.280000     2.000000     0.000000     1.728750  \n",
       "50%        54.490000     3.000000     0.200000     8.666500  \n",
       "75%       209.940000     5.000000     0.200000    29.364000  \n",
       "max     22638.480000    14.000000     0.800000  8399.976000  "
      ]
     },
     "execution_count": 10,
     "metadata": {},
     "output_type": "execute_result"
    }
   ],
   "source": [
    "data.describe(include = \"all\")"
   ]
  },
  {
   "cell_type": "markdown",
   "id": "82958120",
   "metadata": {},
   "source": [
    "# Exploratory Data Analysis"
   ]
  },
  {
   "cell_type": "markdown",
   "id": "dbefcce0",
   "metadata": {},
   "source": [
    "## 1. Which ship mode is most commonly used?\n",
    "    Use a bar chart to compare the frequency of different ship modes and identify the most commonly used shipping method."
   ]
  },
  {
   "cell_type": "code",
   "execution_count": 11,
   "id": "67e4dd38",
   "metadata": {},
   "outputs": [
    {
     "data": {
      "text/plain": [
       "Standard Class    5968\n",
       "Second Class      1945\n",
       "First Class       1538\n",
       "Same Day           543\n",
       "Name: Ship Mode, dtype: int64"
      ]
     },
     "execution_count": 11,
     "metadata": {},
     "output_type": "execute_result"
    }
   ],
   "source": [
    "# Group sales, profit and quantity by category\n",
    "ship_mode_analysis = data['Ship Mode'].value_counts()\n",
    "ship_mode_analysis"
   ]
  },
  {
   "cell_type": "code",
   "execution_count": 12,
   "id": "0bc72630",
   "metadata": {},
   "outputs": [
    {
     "data": {
      "image/png": "[encoded data removed]",
      "text/plain": [
       "<Figure size 1000x600 with 1 Axes>"
      ]
     },
     "metadata": {},
     "output_type": "display_data"
    }
   ],
   "source": [
    "# Create a bar plot using seaborn\n",
    "plt.figure(figsize=(10, 6))\n",
    "sns.barplot(x=ship_mode_analysis.index, y=ship_mode_analysis.values, palette='viridis')\n",
    "plt.title('Distribution of Ship Modes')\n",
    "plt.xlabel('Ship Mode')\n",
    "plt.ylabel('Count')\n",
    "plt.show()"
   ]
  },
  {
   "cell_type": "markdown",
   "id": "f11a1a09",
   "metadata": {},
   "source": [
    "## 2. How do sales vary across different regions?\n",
    "    Create a a bar chart to compare sales performance in different regions of the US."
   ]
  },
  {
   "cell_type": "code",
   "execution_count": 13,
   "id": "5802032b",
   "metadata": {},
   "outputs": [
    {
     "data": {
      "text/html": [
       "<div>\n",
       "<style scoped>\n",
       "    .dataframe tbody tr th:only-of-type {\n",
       "        vertical-align: middle;\n",
       "    }\n",
       "\n",
       "    .dataframe tbody tr th {\n",
       "        vertical-align: top;\n",
       "    }\n",
       "\n",
       "    .dataframe thead th {\n",
       "        text-align: right;\n",
       "    }\n",
       "</style>\n",
       "<table border=\"1\" class=\"dataframe\">\n",
       "  <thead>\n",
       "    <tr style=\"text-align: right;\">\n",
       "      <th></th>\n",
       "      <th>Sales</th>\n",
       "    </tr>\n",
       "    <tr>\n",
       "      <th>Region</th>\n",
       "      <th></th>\n",
       "    </tr>\n",
       "  </thead>\n",
       "  <tbody>\n",
       "    <tr>\n",
       "      <th>West</th>\n",
       "      <td>725457.8245</td>\n",
       "    </tr>\n",
       "    <tr>\n",
       "      <th>East</th>\n",
       "      <td>678781.2400</td>\n",
       "    </tr>\n",
       "    <tr>\n",
       "      <th>Central</th>\n",
       "      <td>501239.8908</td>\n",
       "    </tr>\n",
       "    <tr>\n",
       "      <th>South</th>\n",
       "      <td>391721.9050</td>\n",
       "    </tr>\n",
       "  </tbody>\n",
       "</table>\n",
       "</div>"
      ],
      "text/plain": [
       "               Sales\n",
       "Region              \n",
       "West     725457.8245\n",
       "East     678781.2400\n",
       "Central  501239.8908\n",
       "South    391721.9050"
      ]
     },
     "execution_count": 13,
     "metadata": {},
     "output_type": "execute_result"
    }
   ],
   "source": [
    "# Group sales by state\n",
    "region_analysis = pd.DataFrame(data.groupby(['Region'])[['Sales']].sum())\n",
    "region_analysis = region_analysis.sort_values(by='Sales', ascending=False)\n",
    "region_analysis"
   ]
  },
  {
   "cell_type": "code",
   "execution_count": 14,
   "id": "cf32eb46",
   "metadata": {},
   "outputs": [
    {
     "data": {
      "image/png": "[encoded data removed]",
      "text/plain": [
       "<Figure size 800x500 with 1 Axes>"
      ]
     },
     "metadata": {},
     "output_type": "display_data"
    }
   ],
   "source": [
    "# Set the Seaborn theme\n",
    "sns.set_theme(style=\"whitegrid\")\n",
    "\n",
    "# Create a bar plot for 'Sales'\n",
    "plt.figure(figsize=(8, 5))\n",
    "sns.barplot(x=region_analysis.index, y=region_analysis.Sales)\n",
    "plt.title('Sales (USD)')\n",
    "\n",
    "# Rotate x-axis labels for better visibility\n",
    "plt.xticks(rotation='vertical')\n",
    "\n",
    "# Show the plot\n",
    "plt.show()\n"
   ]
  },
  {
   "cell_type": "markdown",
   "id": "f988d4a7",
   "metadata": {},
   "source": [
    "# 3. Which product categories contribute the most to sales?\n",
    "    Generate a vertical bar chart to show the distribution of sales across different product \n",
    "    categories."
   ]
  },
  {
   "cell_type": "code",
   "execution_count": 15,
   "id": "e6825fb7",
   "metadata": {
    "scrolled": true
   },
   "outputs": [
    {
     "data": {
      "text/html": [
       "<div>\n",
       "<style scoped>\n",
       "    .dataframe tbody tr th:only-of-type {\n",
       "        vertical-align: middle;\n",
       "    }\n",
       "\n",
       "    .dataframe tbody tr th {\n",
       "        vertical-align: top;\n",
       "    }\n",
       "\n",
       "    .dataframe thead th {\n",
       "        text-align: right;\n",
       "    }\n",
       "</style>\n",
       "<table border=\"1\" class=\"dataframe\">\n",
       "  <thead>\n",
       "    <tr style=\"text-align: right;\">\n",
       "      <th></th>\n",
       "      <th>Sales</th>\n",
       "    </tr>\n",
       "    <tr>\n",
       "      <th>Category</th>\n",
       "      <th></th>\n",
       "    </tr>\n",
       "  </thead>\n",
       "  <tbody>\n",
       "    <tr>\n",
       "      <th>Technology</th>\n",
       "      <td>836154.0330</td>\n",
       "    </tr>\n",
       "    <tr>\n",
       "      <th>Furniture</th>\n",
       "      <td>741999.7953</td>\n",
       "    </tr>\n",
       "    <tr>\n",
       "      <th>Office Supplies</th>\n",
       "      <td>719047.0320</td>\n",
       "    </tr>\n",
       "  </tbody>\n",
       "</table>\n",
       "</div>"
      ],
      "text/plain": [
       "                       Sales\n",
       "Category                    \n",
       "Technology       836154.0330\n",
       "Furniture        741999.7953\n",
       "Office Supplies  719047.0320"
      ]
     },
     "execution_count": 15,
     "metadata": {},
     "output_type": "execute_result"
    }
   ],
   "source": [
    "category_analysis = pd.DataFrame(data.groupby(['Category'])[['Sales']].sum())\n",
    "category_analysis = category_analysis.sort_values(by='Sales', ascending=False)\n",
    "category_analysis"
   ]
  },
  {
   "cell_type": "code",
   "execution_count": 16,
   "id": "2aa88694",
   "metadata": {},
   "outputs": [
    {
     "data": {
      "image/png": "[encoded data removed]",
      "text/plain": [
       "<Figure size 640x480 with 1 Axes>"
      ]
     },
     "metadata": {},
     "output_type": "display_data"
    }
   ],
   "source": [
    "# Plot Vertical Bar Plot for Top Selling Sub-Category\n",
    "sns.set_theme(style=\"whitegrid\")\n",
    "sns.barplot(data = category_analysis, y = category_analysis.index, x = category_analysis['Sales'], palette = \"muted\")\n",
    "plt.title(\"Top Selling Category\")\n",
    "plt.show()"
   ]
  },
  {
   "cell_type": "markdown",
   "id": "4305434f",
   "metadata": {},
   "source": [
    "# 4. What is the correlation between discount and profit?\n",
    "    Create a scatter plot to visualize the relationship between the discount offered and the resulting profit for each     \n",
    "    transaction."
   ]
  },
  {
   "cell_type": "code",
   "execution_count": 17,
   "id": "afb95b60",
   "metadata": {},
   "outputs": [
    {
     "data": {
      "image/png": "[encoded data removed]",
      "text/plain": [
       "<Figure size 640x480 with 1 Axes>"
      ]
     },
     "metadata": {},
     "output_type": "display_data"
    }
   ],
   "source": [
    "# Sample data for the scatter plot\n",
    "x_values = data['Profit']\n",
    "y_values = data['Discount']\n",
    "\n",
    "# Plotting the scatter plot\n",
    "plt.scatter(x_values, y_values, color='blue', marker='o', label='Data Points')\n",
    "\n",
    "# Adding labels and title\n",
    "plt.xlabel('Profit')\n",
    "plt.ylabel('Discount')\n",
    "plt.title('Correlation between Profit and Discount')\n",
    "\n",
    "# Adding a legend\n",
    "plt.legend()\n",
    "\n",
    "# Display the plot\n",
    "plt.show()"
   ]
  },
  {
   "cell_type": "markdown",
   "id": "b0ac904d",
   "metadata": {},
   "source": [
    "# 5. Which cities have the highest and lowest profits?\n",
    "    Use a bar chart to identify the top 5 and bottom 5 performing cities or states based on sales."
   ]
  },
  {
   "cell_type": "code",
   "execution_count": 18,
   "id": "461d8963",
   "metadata": {},
   "outputs": [
    {
     "data": {
      "text/html": [
       "<div>\n",
       "<style scoped>\n",
       "    .dataframe tbody tr th:only-of-type {\n",
       "        vertical-align: middle;\n",
       "    }\n",
       "\n",
       "    .dataframe tbody tr th {\n",
       "        vertical-align: top;\n",
       "    }\n",
       "\n",
       "    .dataframe thead th {\n",
       "        text-align: right;\n",
       "    }\n",
       "</style>\n",
       "<table border=\"1\" class=\"dataframe\">\n",
       "  <thead>\n",
       "    <tr style=\"text-align: right;\">\n",
       "      <th></th>\n",
       "      <th>Profit</th>\n",
       "    </tr>\n",
       "    <tr>\n",
       "      <th>City</th>\n",
       "      <th></th>\n",
       "    </tr>\n",
       "  </thead>\n",
       "  <tbody>\n",
       "    <tr>\n",
       "      <th>New York City</th>\n",
       "      <td>62036.9837</td>\n",
       "    </tr>\n",
       "    <tr>\n",
       "      <th>Los Angeles</th>\n",
       "      <td>30440.7579</td>\n",
       "    </tr>\n",
       "    <tr>\n",
       "      <th>Seattle</th>\n",
       "      <td>29156.0967</td>\n",
       "    </tr>\n",
       "    <tr>\n",
       "      <th>San Francisco</th>\n",
       "      <td>17507.3854</td>\n",
       "    </tr>\n",
       "    <tr>\n",
       "      <th>Detroit</th>\n",
       "      <td>13181.7908</td>\n",
       "    </tr>\n",
       "  </tbody>\n",
       "</table>\n",
       "</div>"
      ],
      "text/plain": [
       "                   Profit\n",
       "City                     \n",
       "New York City  62036.9837\n",
       "Los Angeles    30440.7579\n",
       "Seattle        29156.0967\n",
       "San Francisco  17507.3854\n",
       "Detroit        13181.7908"
      ]
     },
     "execution_count": 18,
     "metadata": {},
     "output_type": "execute_result"
    }
   ],
   "source": [
    "city_sales = pd.DataFrame(data.groupby(['City'])['Profit'].sum())\n",
    "city_sales = city_sales.sort_values(by='Profit',ascending = False)\n",
    "top5 = city_sales[:5]\n",
    "top5"
   ]
  },
  {
   "cell_type": "code",
   "execution_count": 19,
   "id": "a1852c28",
   "metadata": {},
   "outputs": [
    {
     "data": {
      "text/html": [
       "<div>\n",
       "<style scoped>\n",
       "    .dataframe tbody tr th:only-of-type {\n",
       "        vertical-align: middle;\n",
       "    }\n",
       "\n",
       "    .dataframe tbody tr th {\n",
       "        vertical-align: top;\n",
       "    }\n",
       "\n",
       "    .dataframe thead th {\n",
       "        text-align: right;\n",
       "    }\n",
       "</style>\n",
       "<table border=\"1\" class=\"dataframe\">\n",
       "  <thead>\n",
       "    <tr style=\"text-align: right;\">\n",
       "      <th></th>\n",
       "      <th>Profit</th>\n",
       "    </tr>\n",
       "    <tr>\n",
       "      <th>City</th>\n",
       "      <th></th>\n",
       "    </tr>\n",
       "  </thead>\n",
       "  <tbody>\n",
       "    <tr>\n",
       "      <th>Chicago</th>\n",
       "      <td>-6654.5688</td>\n",
       "    </tr>\n",
       "    <tr>\n",
       "      <th>Lancaster</th>\n",
       "      <td>-7239.0684</td>\n",
       "    </tr>\n",
       "    <tr>\n",
       "      <th>San Antonio</th>\n",
       "      <td>-7299.0502</td>\n",
       "    </tr>\n",
       "    <tr>\n",
       "      <th>Houston</th>\n",
       "      <td>-10153.5485</td>\n",
       "    </tr>\n",
       "    <tr>\n",
       "      <th>Philadelphia</th>\n",
       "      <td>-13837.7674</td>\n",
       "    </tr>\n",
       "  </tbody>\n",
       "</table>\n",
       "</div>"
      ],
      "text/plain": [
       "                  Profit\n",
       "City                    \n",
       "Chicago       -6654.5688\n",
       "Lancaster     -7239.0684\n",
       "San Antonio   -7299.0502\n",
       "Houston      -10153.5485\n",
       "Philadelphia -13837.7674"
      ]
     },
     "execution_count": 19,
     "metadata": {},
     "output_type": "execute_result"
    }
   ],
   "source": [
    "city_sales = pd.DataFrame(data.groupby(['City'])['Profit'].sum())\n",
    "city_sales = city_sales.sort_values(by='Profit',ascending = False)\n",
    "bottom5 = city_sales[-5:]\n",
    "bottom5"
   ]
  },
  {
   "cell_type": "code",
   "execution_count": 20,
   "id": "b6abd261",
   "metadata": {},
   "outputs": [
    {
     "data": {
      "image/png": "[encoded data removed]",
      "text/plain": [
       "<Figure size 1200x500 with 2 Axes>"
      ]
     },
     "metadata": {},
     "output_type": "display_data"
    }
   ],
   "source": [
    "# Set for grouped plots - figure with a 1x2 grid of Axes\n",
    "figure, axis = plt.subplots(1, 2, figsize=(12, 5))\n",
    "\n",
    "sns.set_theme(style=\"whitegrid\")\n",
    "\n",
    "top5c = sns.barplot(data=top5, x=top5.index, y=top5.Profit, palette=\"coolwarm\", ax=axis[0])\n",
    "top5c.set_title(\"Top 5 Cities with Highest Profit\")\n",
    "top5c.set_yticklabels(top5c.get_yticklabels(), size=10)\n",
    "\n",
    "# Plot Bar Plot for Best Selling Sub-Category\n",
    "bottom5c = sns.barplot(data=bottom5, x=bottom5.index, y=bottom5.Profit, palette=\"coolwarm\", ax=axis[1])\n",
    "bottom5c.set_title(\"Bottom 5 Cities with Lowest Profit\")\n",
    "bottom5c.set_yticklabels(bottom5c.get_yticklabels(), size=10)\n",
    "\n",
    "# Set spacing between subplots\n",
    "figure.tight_layout()\n",
    "\n",
    "plt.show()"
   ]
  },
  {
   "cell_type": "markdown",
   "id": "7c8a99cc",
   "metadata": {},
   "source": [
    "# 6. Quantity Sold by Category with Subcategories?\n",
    "    Generate stacked bar chart to compare the quantity sold for each product category with subcategories."
   ]
  },
  {
   "cell_type": "code",
   "execution_count": 21,
   "id": "b063abca",
   "metadata": {},
   "outputs": [
    {
     "data": {
      "image/png": "[encoded data removed]",
      "text/plain": [
       "<Figure size 1200x800 with 1 Axes>"
      ]
     },
     "metadata": {},
     "output_type": "display_data"
    }
   ],
   "source": [
    "# Set a color palette\n",
    "custom_palette = sns.color_palette(\"Set2\")\n",
    "\n",
    "# Plot a stacked bar chart using seaborn\n",
    "plt.figure(figsize=(12, 8))\n",
    "sns.barplot(x=data.Category, y=data.Quantity, hue= data['Sub-Category'], data=data, palette=custom_palette, edgecolor='w')\n",
    "\n",
    "plt.title('Stacked Bar Chart: Quantity Sold by Category with Subcategories', fontsize=16)\n",
    "plt.xlabel('Product Categories', fontsize=14)\n",
    "plt.ylabel('Quantity Sold', fontsize=14)\n",
    "plt.xticks(fontsize=12)\n",
    "plt.yticks(fontsize=12)\n",
    "plt.legend(title='Subcategories', bbox_to_anchor=(1.05, 1), loc='upper left', fontsize=12)\n",
    "plt.grid(axis='y', linestyle='--', alpha=0.7)\n",
    "\n",
    "plt.show()"
   ]
  },
  {
   "cell_type": "markdown",
   "id": "6850bb93",
   "metadata": {},
   "source": [
    "# 7. What is the distribution of discounts across different segments?\n",
    "    Create a box plot to visualize the distribution of discounts for different customer segments."
   ]
  },
  {
   "cell_type": "code",
   "execution_count": 22,
   "id": "10d45e4a",
   "metadata": {},
   "outputs": [
    {
     "data": {
      "text/html": [
       "<div>\n",
       "<style scoped>\n",
       "    .dataframe tbody tr th:only-of-type {\n",
       "        vertical-align: middle;\n",
       "    }\n",
       "\n",
       "    .dataframe tbody tr th {\n",
       "        vertical-align: top;\n",
       "    }\n",
       "\n",
       "    .dataframe thead tr th {\n",
       "        text-align: left;\n",
       "    }\n",
       "\n",
       "    .dataframe thead tr:last-of-type th {\n",
       "        text-align: right;\n",
       "    }\n",
       "</style>\n",
       "<table border=\"1\" class=\"dataframe\">\n",
       "  <thead>\n",
       "    <tr>\n",
       "      <th></th>\n",
       "      <th colspan=\"8\" halign=\"left\">Discount</th>\n",
       "    </tr>\n",
       "    <tr>\n",
       "      <th></th>\n",
       "      <th>count</th>\n",
       "      <th>mean</th>\n",
       "      <th>std</th>\n",
       "      <th>min</th>\n",
       "      <th>25%</th>\n",
       "      <th>50%</th>\n",
       "      <th>75%</th>\n",
       "      <th>max</th>\n",
       "    </tr>\n",
       "    <tr>\n",
       "      <th>Segment</th>\n",
       "      <th></th>\n",
       "      <th></th>\n",
       "      <th></th>\n",
       "      <th></th>\n",
       "      <th></th>\n",
       "      <th></th>\n",
       "      <th></th>\n",
       "      <th></th>\n",
       "    </tr>\n",
       "  </thead>\n",
       "  <tbody>\n",
       "    <tr>\n",
       "      <th>Consumer</th>\n",
       "      <td>5191.0</td>\n",
       "      <td>0.158141</td>\n",
       "      <td>0.207485</td>\n",
       "      <td>0.0</td>\n",
       "      <td>0.0</td>\n",
       "      <td>0.2</td>\n",
       "      <td>0.2</td>\n",
       "      <td>0.8</td>\n",
       "    </tr>\n",
       "    <tr>\n",
       "      <th>Corporate</th>\n",
       "      <td>3020.0</td>\n",
       "      <td>0.158228</td>\n",
       "      <td>0.206548</td>\n",
       "      <td>0.0</td>\n",
       "      <td>0.0</td>\n",
       "      <td>0.2</td>\n",
       "      <td>0.2</td>\n",
       "      <td>0.8</td>\n",
       "    </tr>\n",
       "    <tr>\n",
       "      <th>Home Office</th>\n",
       "      <td>1783.0</td>\n",
       "      <td>0.147128</td>\n",
       "      <td>0.203119</td>\n",
       "      <td>0.0</td>\n",
       "      <td>0.0</td>\n",
       "      <td>0.0</td>\n",
       "      <td>0.2</td>\n",
       "      <td>0.8</td>\n",
       "    </tr>\n",
       "  </tbody>\n",
       "</table>\n",
       "</div>"
      ],
      "text/plain": [
       "            Discount                                             \n",
       "               count      mean       std  min  25%  50%  75%  max\n",
       "Segment                                                          \n",
       "Consumer      5191.0  0.158141  0.207485  0.0  0.0  0.2  0.2  0.8\n",
       "Corporate     3020.0  0.158228  0.206548  0.0  0.0  0.2  0.2  0.8\n",
       "Home Office   1783.0  0.147128  0.203119  0.0  0.0  0.0  0.2  0.8"
      ]
     },
     "execution_count": 22,
     "metadata": {},
     "output_type": "execute_result"
    }
   ],
   "source": [
    "discount_segment = pd.DataFrame(data.groupby(['Segment'])[['Discount']].describe())\n",
    "discount_segment"
   ]
  },
  {
   "cell_type": "code",
   "execution_count": 23,
   "id": "c1034331",
   "metadata": {},
   "outputs": [
    {
     "data": {
      "image/png": "[encoded data removed]",
      "text/plain": [
       "<Figure size 1000x600 with 1 Axes>"
      ]
     },
     "metadata": {},
     "output_type": "display_data"
    }
   ],
   "source": [
    "# Set a color palette\n",
    "custom_palette = sns.color_palette(\"pastel\")\n",
    "\n",
    "# Create a box plot using seaborn\n",
    "plt.figure(figsize=(10, 6))\n",
    "\n",
    "sns.boxplot(x=data['Segment'], y=data['Discount'], data=data, palette=custom_palette)\n",
    "\n",
    "plt.title('Distribution of Discounts for Different Customer Segments', fontsize=16)\n",
    "plt.xlabel('Customer Segments', fontsize=14)\n",
    "plt.ylabel('Discount', fontsize=14)\n",
    "plt.xticks(fontsize=12)\n",
    "plt.yticks(fontsize=12)\n",
    "\n",
    "plt.show()"
   ]
  },
  {
   "cell_type": "markdown",
   "id": "01bb4ff6",
   "metadata": {},
   "source": [
    "# 8. Create Heatmap for numerical data correlation\n",
    "    Is there a correlation between the total sales and the overall profit across different stores?"
   ]
  },
  {
   "cell_type": "code",
   "execution_count": 24,
   "id": "2c40c0fe",
   "metadata": {},
   "outputs": [
    {
     "name": "stdout",
     "output_type": "stream",
     "text": [
      "<class 'pandas.core.frame.DataFrame'>\n",
      "RangeIndex: 9994 entries, 0 to 9993\n",
      "Data columns (total 14 columns):\n",
      " #   Column        Non-Null Count  Dtype  \n",
      "---  ------        --------------  -----  \n",
      " 0   ID            9994 non-null   object \n",
      " 1   Ship Mode     9994 non-null   object \n",
      " 2   Segment       9994 non-null   object \n",
      " 3   Country       9994 non-null   object \n",
      " 4   City          9994 non-null   object \n",
      " 5   State         9994 non-null   object \n",
      " 6   Postal Code   9994 non-null   object \n",
      " 7   Region        9994 non-null   object \n",
      " 8   Category      9994 non-null   object \n",
      " 9   Sub-Category  9994 non-null   object \n",
      " 10  Sales         9994 non-null   float64\n",
      " 11  Quantity      9994 non-null   int64  \n",
      " 12  Discount      9994 non-null   float64\n",
      " 13  Profit        9994 non-null   float64\n",
      "dtypes: float64(3), int64(1), object(10)\n",
      "memory usage: 1.1+ MB\n"
     ]
    }
   ],
   "source": [
    "data_corr = data\n",
    "# Convert 'SST' column to boolean (assuming it contains True/False values)\n",
    "data_corr['Postal Code'] = data_corr['Postal Code'].astype(object)\n",
    "data_corr.info()"
   ]
  },
  {
   "cell_type": "code",
   "execution_count": 25,
   "id": "282a7dc6",
   "metadata": {},
   "outputs": [
    {
     "data": {
      "text/html": [
       "<div>\n",
       "<style scoped>\n",
       "    .dataframe tbody tr th:only-of-type {\n",
       "        vertical-align: middle;\n",
       "    }\n",
       "\n",
       "    .dataframe tbody tr th {\n",
       "        vertical-align: top;\n",
       "    }\n",
       "\n",
       "    .dataframe thead th {\n",
       "        text-align: right;\n",
       "    }\n",
       "</style>\n",
       "<table border=\"1\" class=\"dataframe\">\n",
       "  <thead>\n",
       "    <tr style=\"text-align: right;\">\n",
       "      <th></th>\n",
       "      <th>Sales</th>\n",
       "      <th>Quantity</th>\n",
       "      <th>Discount</th>\n",
       "      <th>Profit</th>\n",
       "    </tr>\n",
       "  </thead>\n",
       "  <tbody>\n",
       "    <tr>\n",
       "      <th>Sales</th>\n",
       "      <td>1.000000</td>\n",
       "      <td>0.200795</td>\n",
       "      <td>-0.028190</td>\n",
       "      <td>0.479064</td>\n",
       "    </tr>\n",
       "    <tr>\n",
       "      <th>Quantity</th>\n",
       "      <td>0.200795</td>\n",
       "      <td>1.000000</td>\n",
       "      <td>0.008623</td>\n",
       "      <td>0.066253</td>\n",
       "    </tr>\n",
       "    <tr>\n",
       "      <th>Discount</th>\n",
       "      <td>-0.028190</td>\n",
       "      <td>0.008623</td>\n",
       "      <td>1.000000</td>\n",
       "      <td>-0.219487</td>\n",
       "    </tr>\n",
       "    <tr>\n",
       "      <th>Profit</th>\n",
       "      <td>0.479064</td>\n",
       "      <td>0.066253</td>\n",
       "      <td>-0.219487</td>\n",
       "      <td>1.000000</td>\n",
       "    </tr>\n",
       "  </tbody>\n",
       "</table>\n",
       "</div>"
      ],
      "text/plain": [
       "             Sales  Quantity  Discount    Profit\n",
       "Sales     1.000000  0.200795 -0.028190  0.479064\n",
       "Quantity  0.200795  1.000000  0.008623  0.066253\n",
       "Discount -0.028190  0.008623  1.000000 -0.219487\n",
       "Profit    0.479064  0.066253 -0.219487  1.000000"
      ]
     },
     "execution_count": 25,
     "metadata": {},
     "output_type": "execute_result"
    }
   ],
   "source": [
    "corr_matrix = data_corr.corr()\n",
    "\n",
    "corr_matrix"
   ]
  },
  {
   "cell_type": "code",
   "execution_count": 26,
   "id": "b814251f",
   "metadata": {},
   "outputs": [
    {
     "data": {
      "image/png": "[encoded data removed]",
      "text/plain": [
       "<Figure size 1100x800 with 2 Axes>"
      ]
     },
     "metadata": {},
     "output_type": "display_data"
    }
   ],
   "source": [
    "fig = plt.figure(figsize=(11, 8))\n",
    "\n",
    "sns.heatmap(corr_matrix,\n",
    "            cmap='Blues',  # Use 'Blues' colormap for blue saturation\n",
    "            linewidth=0.75,\n",
    "            linecolor='black',\n",
    "            cbar=True,\n",
    "            vmin=-1,\n",
    "            vmax=1,\n",
    "            annot=True,\n",
    "            annot_kws={'size': 8, 'color': 'black'})\n",
    "\n",
    "plt.tick_params(labelsize=10, rotation=45)\n",
    "plt.title('Correlation Plot', size=14)\n",
    "plt.show()\n"
   ]
  },
  {
   "cell_type": "markdown",
   "id": "d51a31e0",
   "metadata": {},
   "source": [
    "# Analysis Questions\n",
    "\n",
    "- Which ship mode is most commonly used?\n",
    "- How do sales vary across different regions?\n",
    "- Which product categories contribute the most to sales?\n",
    "- What is the correlation between discount and profit?\n",
    "- Which cities have the highest and lowest sales?\n",
    "- Quantity Sold by Category with Subcategories?\n",
    "- What is the distribution of discounts across different segments?\n",
    "- Create Heatmap for numerical data correlation?"
   ]
  },
  {
   "cell_type": "markdown",
   "id": "b50e13a1",
   "metadata": {},
   "source": [
    "# Conclusion\n",
    "\n",
    "- Standard Class is a ship mode is most commonly used.\n",
    "- West Region has the highest sales performance.\n",
    "- Technology is product category that contributes the most to sales.\n",
    "- The correlation between discount and profit is negatively correlated.\n",
    "- New York City is city that has the highest sales and Philadelphia is city that has the lowest sales?\n",
    "- Quantity Sold by Office Supplies Category with Fasteners Subcategory is the most.\n",
    "- The data distribution of discounts across different segments is high between 0 to 0.2\n",
    "- Data correlation between Sales and Profit is 0.48"
   ]
  }
 ],
 "metadata": {
  "kernelspec": {
   "display_name": "Python 3 (ipykernel)",
   "language": "python",
   "name": "python3"
  },
  "language_info": {
   "codemirror_mode": {
    "name": "ipython",
    "version": 3
   },
   "file_extension": ".py",
   "mimetype": "text/x-python",
   "name": "python",
   "nbconvert_exporter": "python",
   "pygments_lexer": "ipython3",
   "version": "3.10.9"
  }
 },
 "nbformat": 4,
 "nbformat_minor": 5
}
